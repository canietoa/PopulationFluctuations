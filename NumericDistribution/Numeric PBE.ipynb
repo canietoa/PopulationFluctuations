{
 "cells": [
  {
   "cell_type": "markdown",
   "id": "d21533a1",
   "metadata": {},
   "source": [
    "This notebook Calculates the solution of the size distribution from PBE approach"
   ]
  },
  {
   "cell_type": "code",
   "execution_count": 6,
   "id": "672dc85d",
   "metadata": {},
   "outputs": [],
   "source": [
    "import pandas as pd\n",
    "import numpy as np\n",
    "import seaborn as sns\n",
    "from matplotlib import pyplot as plt\n",
    "from scipy.stats import bayes_mvs as bayesest\n",
    "from tqdm import tqdm\n",
    "from scipy.stats import gamma"
   ]
  },
  {
   "cell_type": "code",
   "execution_count": 2,
   "id": "09f75bdb",
   "metadata": {},
   "outputs": [],
   "source": [
    "lenarr=8000 #number of points in the lattice\n",
    "mu=np.log(2) #Growth rate\n",
    "deltat=(20/(mu*lenarr))*np.log(2) #Time step\n",
    "cv=0.1#coefficient of variation of the initial size distribution\n",
    "x0=1 #Mean size as initial condition\n",
    "shape=1/cv**2 #shape parameter of the gamma distribution\n",
    "scale=x0/shape #Scale Parameter of gamma distribution\n",
    "k=np.log(2) #Division rate"
   ]
  },
  {
   "cell_type": "code",
   "execution_count": 3,
   "id": "709eda9b",
   "metadata": {},
   "outputs": [],
   "source": [
    "\n",
    "def ev(dist,x):#For estimating the size distribution at single cell level, use this function\n",
    "    ddist=np.zeros(len(dist))\n",
    "    ddist2=np.zeros(len(dist))\n",
    "    ddist3=np.zeros(len(dist))\n",
    "    for i in range(1,len(dist)):\n",
    "        jumprate=(1-k*x[i-1]*deltat)\n",
    "        ddist[i]=jumprate*dist[i-1]\n",
    "    for i in range(len(dist)-400):\n",
    "        ddist3[i]=k*x[i+400]*dist[i+400]*deltat\n",
    "    return ddist+ddist3\n",
    "\n",
    "def evpop(dist,x):#For estimating the size distribution at population level, use this function\n",
    "    ddist=np.zeros(len(dist))\n",
    "    ddist2=np.zeros(len(dist))\n",
    "    ddist3=np.zeros(len(dist))\n",
    "    for i in range(1,len(dist)):\n",
    "        jumprate=(1-k*x[i-1]*deltat)\n",
    "        ddist[i]=jumprate*dist[i-1]\n",
    "    for i in range(len(dist)-400):\n",
    "        ddist3[i]=2*k*x[i+400]*dist[i+400]*deltat\n",
    "    return ddist+ddist3"
   ]
  },
  {
   "cell_type": "code",
   "execution_count": 56,
   "id": "868d03ed",
   "metadata": {},
   "outputs": [],
   "source": [
    "x=2**(-6) #smallest size in the grid\n",
    "dx=x*mu*deltat #initial grisd width\n",
    "xarr=np.zeros(lenarr) #Array of sizes\n",
    "distarr=np.zeros(lenarr) #Array for distribution\n",
    "dxarr=np.zeros(lenarr) #array of latice width\n",
    "for i in range(lenarr):\n",
    "    xarr[i]=x\n",
    "    dxarr[i]=dx\n",
    "    distarr[i]=gamma.pdf(x,a=shape,scale=scale)*dx#Initial condition, size being gamma distribution\n",
    "    x+=dx\n",
    "    dx=x*mu*deltat\n",
    "\n",
    "t=0\n",
    "tmax=10\n",
    "steps=int(tmax/deltat)\n",
    "n=0\n",
    "for stp in (range(steps)):\n",
    "    distarr=ev(distarr,xarr)\n",
    "    t+=deltat\n",
    "    tref+=deltat"
   ]
  },
  {
   "cell_type": "code",
   "execution_count": 40,
   "id": "fedfc075",
   "metadata": {},
   "outputs": [],
   "source": [
    "from PyEcoLib.PopSimulator import PopSimulator\n",
    "\n",
    "meanbirthsize = 1 # mean size at birth  \n",
    "gr=np.log(2) #Growth rate\n",
    "tmax = 10  \n",
    "sample_time = 0.01 #min \n",
    "div_steps = 1 #Division steps\n",
    "ncells = 1000 #Number of colonies\n",
    "\n",
    "cv=0.1\n",
    "v0=np.random.gamma(shape=1/cv**2,scale=cv**2,size=ncells) #Array of initial sizes\n",
    "\n",
    "sim = PopSimulator(ncells=ncells,gr = gr, sb=meanbirthsize, steps = div_steps,nu=1,V0array=v0) #Initializing the simulator\n",
    "sim.szdyn(tmax = tmax, sample_time = 1, FileName=  \"./datanu1.csv\", DivEventsFile=\"./DivEventsnu1.csv\")"
   ]
  },
  {
   "cell_type": "code",
   "execution_count": 57,
   "id": "07630f8d",
   "metadata": {},
   "outputs": [
    {
     "data": {
      "text/plain": [
       "Text(0, 0.5, 'Distribution')"
      ]
     },
     "execution_count": 57,
     "metadata": {},
     "output_type": "execute_result"
    },
    {
     "data": {
      "image/png": "[encoded data removed]",
      "text/plain": [
       "<Figure size 432x288 with 1 Axes>"
      ]
     },
     "metadata": {
      "needs_background": "light"
     },
     "output_type": "display_data"
    }
   ],
   "source": [
    "data=pd.read_csv(\"./datanu1.csv\")\n",
    "t=data.Time.unique()[-1]\n",
    "datat=data[data.Time==t]\n",
    "\n",
    "plt.hist(datat.Size,bins=100,density=True)\n",
    "plt.plot(xarr,distarr/dxarr)\n",
    "plt.xlim(0,10)\n",
    "plt.xlabel('Size')\n",
    "plt.ylabel('Distribution')"
   ]
  },
  {
   "cell_type": "code",
   "execution_count": 19,
   "id": "fd14f623",
   "metadata": {},
   "outputs": [
    {
     "name": "stdout",
     "output_type": "stream",
     "text": [
      "Mean=1.4390939890288263\n",
      "Variance=0.7990692685330472\n"
     ]
    }
   ],
   "source": [
    "#Estimating the size distribution moments\n",
    "mn=np.trapz((distarr/dxarr)*xarr,x=xarr)#Estimating the mean from distribution\n",
    "print(f'Mean={mn}')\n",
    "mn2=np.trapz((distarr/dxarr)*xarr*xarr,x=xarr)\n",
    "var=mn2-mn**2\n",
    "print(f'Variance={var}')"
   ]
  },
  {
   "cell_type": "code",
   "execution_count": null,
   "id": "c682797b",
   "metadata": {},
   "outputs": [],
   "source": [
    "\n",
    "from scipy.stats import beta\n",
    "def betadist(i,CV2=0.001):\n",
    "    a=(2*(1/CV2-1))\n",
    "    b=a\n",
    "    x=0.25*np.exp(mu*deltat*np.arange(0,800))\n",
    "    dx=x*mu*deltat#(np.exp(mu*deltat)-1)\n",
    "    y=beta.pdf(x,a=a,b=b)*dx\n",
    "    #print(np.sum(y))\n",
    "    return y[i]"
   ]
  },
  {
   "cell_type": "markdown",
   "id": "2d05dab7",
   "metadata": {},
   "source": [
    "Solution for population snapshots"
   ]
  },
  {
   "cell_type": "code",
   "execution_count": 49,
   "id": "831a5129",
   "metadata": {},
   "outputs": [],
   "source": [
    "x=2**(-6) #smallest size in the grid\n",
    "dx=x*mu*deltat #initial grisd width\n",
    "xarr=np.zeros(lenarr) #Array of sizes\n",
    "distarr=np.zeros(lenarr) #Array for distribution\n",
    "dxarr=np.zeros(lenarr) #array of latice width\n",
    "for i in range(lenarr):\n",
    "    xarr[i]=x\n",
    "    dxarr[i]=dx\n",
    "    distarr[i]=gamma.pdf(x,a=shape,scale=scale)*dx#Initial condition, size being gamma distribution\n",
    "    x+=dx\n",
    "    dx=x*mu*deltat\n",
    "t=0\n",
    "tmax=5\n",
    "steps=int(tmax/deltat)\n",
    "n=0\n",
    "for stp in (range(steps)):\n",
    "    distarr=evpop(distarr,xarr)\n",
    "    t+=deltat\n",
    "    tref+=deltat"
   ]
  },
  {
   "cell_type": "code",
   "execution_count": 48,
   "id": "704566c6",
   "metadata": {},
   "outputs": [],
   "source": [
    "from PyEcoLib.PopSimulator import PopSimulator\n",
    "\n",
    "meanbirthsize = 1 # mean size at birth  \n",
    "gr=np.log(2) #Growth rate\n",
    "tmax = 5  \n",
    "sample_time = 0.01 #min \n",
    "div_steps = 1 #Division steps\n",
    "ncells = 100 #Number of colonies\n",
    "\n",
    "cv=0.1\n",
    "v0=np.random.gamma(shape=1/cv**2,scale=cv**2,size=ncells) #Array of initial sizes\n",
    "\n",
    "sim = PopSimulator(ncells=ncells,gr = gr, sb=meanbirthsize, steps = div_steps,nu=2,V0array=v0) #Initializing the simulator\n",
    "sim.szdyn(tmax = tmax, sample_time = 1, FileName=  \"./datanu2.csv\", DivEventsFile=\"./DivEventsnu2.csv\")"
   ]
  },
  {
   "cell_type": "code",
   "execution_count": 54,
   "id": "3cc72e29",
   "metadata": {},
   "outputs": [
    {
     "data": {
      "text/plain": [
       "Text(0, 0.5, 'Distribution')"
      ]
     },
     "execution_count": 54,
     "metadata": {},
     "output_type": "execute_result"
    },
    {
     "data": {
      "image/png": "[encoded data removed]",
      "text/plain": [
       "<Figure size 432x288 with 1 Axes>"
      ]
     },
     "metadata": {
      "needs_background": "light"
     },
     "output_type": "display_data"
    }
   ],
   "source": [
    "data=pd.read_csv(\"./datanu2.csv\")\n",
    "t=data.Time.unique()[-1]\n",
    "datat=data[data.Time==t]\n",
    "\n",
    "plt.hist(datat.Size,bins=100,density=True)\n",
    "\n",
    "\n",
    "plt.plot(xarr,distarr*(1/np.sum(distarr))/dxarr)\n",
    "plt.xlim(0,10)\n",
    "plt.xlabel('Size')\n",
    "plt.ylabel('Distribution')"
   ]
  },
  {
   "cell_type": "code",
   "execution_count": 30,
   "id": "f1c2cf19",
   "metadata": {},
   "outputs": [
    {
     "name": "stdout",
     "output_type": "stream",
     "text": [
      "Mean=0.9975749813985709\n",
      "Variance=0.44090001961699055\n"
     ]
    }
   ],
   "source": [
    "#Estimating the size distribution moments\n",
    "N=np.sum(distarr)#Population\n",
    "mn=np.trapz((distarr/dxarr)*xarr/N,x=xarr)#Estimating the mean from distribution\n",
    "print(f'Mean={mn}')\n",
    "mn2=np.trapz((distarr/dxarr)*xarr*xarr/N,x=xarr)\n",
    "var=mn2-mn**2\n",
    "print(f'Variance={var}')"
   ]
  }
 ],
 "metadata": {
  "kernelspec": {
   "display_name": "Python 3",
   "language": "python",
   "name": "python3"
  },
  "language_info": {
   "codemirror_mode": {
    "name": "ipython",
    "version": 3
   },
   "file_extension": ".py",
   "mimetype": "text/x-python",
   "name": "python",
   "nbconvert_exporter": "python",
   "pygments_lexer": "ipython3",
   "version": "3.8.8"
  }
 },
 "nbformat": 4,
 "nbformat_minor": 5
}
